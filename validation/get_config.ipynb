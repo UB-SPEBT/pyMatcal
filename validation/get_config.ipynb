{
 "cells": [
  {
   "cell_type": "code",
   "execution_count": 69,
   "metadata": {},
   "outputs": [],
   "source": [
    "import yaml\n",
    "import numpy as np\n",
    "import jsonschema\n",
    "import json"
   ]
  },
  {
   "cell_type": "code",
   "execution_count": 83,
   "metadata": {},
   "outputs": [
    {
     "name": "stdout",
     "output_type": "stream",
     "text": [
      "Error: Failed validating configuration file!!\n",
      "Error Messages:\n",
      "'image-to-detector' is a required property\n"
     ]
    }
   ],
   "source": [
    "schema={}\n",
    "with open('config_schema.json',\"r\") as data:\n",
    "    schema = json.load(data)\n",
    "configFileName = \"./config.yml\"\n",
    "with open(configFileName, \"r\") as stream:\n",
    "    try:\n",
    "        yamlConfig = yaml.safe_load(stream)\n",
    "        jsonschema.validate(instance=yamlConfig, schema=schema)\n",
    "    except Exception as err:\n",
    "        print(\"Error:\",\"Failed validating configuration file!!\")\n",
    "        print(\"Error Messages:\\n%s\"%err.message)\n",
    "        exit(1)\n",
    "\n",
    "# jsonschema.validate(instance=yamlConfig, schema=schema)\n",
    "\n",
    "# # Read in the geometry\n",
    "# try:\n",
    "#     print(type(yamlConfig[\"detector geometry\"]))\n",
    "#     systemGeom = np.asarray(yamlConfig[\"detector geometry\"])\n",
    "#     sensGeomIds = np.asarray(yamlConfig[\"detector\"][\"sensitive geometry indices\"])\n",
    "\n",
    "#     detSubs = np.asarray(yamlConfig[\"detector\"][\"crystal n subdivision xyz\"])\n",
    "#     # Calculate Image space N subdivision and size.\n",
    "#     imageDims = np.asarray(yamlConfig[\"image\"][\"dimension xyz\"])\n",
    "#     imageVxpms = np.asarray(yamlConfig[\"image\"][\"voxel per mm xyz\"])\n",
    "#     imageSubs = np.asarray(yamlConfig[\"image\"][\"subdivision xyz\"])\n",
    "#     angle_rad = yamlConfig[\"image\"][\"detector rotation\"]\n",
    "#     x_shift = yamlConfig[\"image\"][\"detector x-shift\"]\n",
    "# except yaml.YAMLError as err:\n",
    "#     print(\"Error reading the configurations!\", err)\n",
    "#     exit(1)"
   ]
  },
  {
   "cell_type": "code",
   "execution_count": 11,
   "metadata": {},
   "outputs": [
    {
     "name": "stdout",
     "output_type": "stream",
     "text": [
      "5\n"
     ]
    }
   ],
   "source": [
    "print(len(yamlConfig.keys()))"
   ]
  },
  {
   "cell_type": "code",
   "execution_count": null,
   "metadata": {},
   "outputs": [],
   "source": []
  }
 ],
 "metadata": {
  "kernelspec": {
   "display_name": "Python 3",
   "language": "python",
   "name": "python3"
  },
  "language_info": {
   "codemirror_mode": {
    "name": "ipython",
    "version": 3
   },
   "file_extension": ".py",
   "mimetype": "text/x-python",
   "name": "python",
   "nbconvert_exporter": "python",
   "pygments_lexer": "ipython3",
   "version": "3.10.12"
  }
 },
 "nbformat": 4,
 "nbformat_minor": 2
}
